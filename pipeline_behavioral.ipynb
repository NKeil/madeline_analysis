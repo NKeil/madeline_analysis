{
 "cells": [
  {
   "cell_type": "markdown",
   "metadata": {
    "collapsed": true,
    "pycharm": {
     "name": "#%% md\n"
    }
   },
   "source": [
    "## Setup"
   ]
  },
  {
   "cell_type": "code",
   "execution_count": 1,
   "metadata": {
    "pycharm": {
     "name": "#%%\n"
    }
   },
   "outputs": [],
   "source": [
    "from behavior_base import *\n",
    "from behavioral_pipeline import GoNogoBehaviorMat\n",
    "import h5py\n",
    "import numpy as np\n",
    "import os"
   ]
  },
  {
   "cell_type": "code",
   "execution_count": 2,
   "metadata": {},
   "outputs": [],
   "source": [
    "animal = 'JUV011'\n",
    "session = '211215'"
   ]
  },
  {
   "cell_type": "code",
   "execution_count": 3,
   "metadata": {},
   "outputs": [],
   "source": [
    "#input_folder = fr\"\\\\filenest.diskstation.me\\Wilbrecht_file_server\\Madeline\\raw_behavior\\{animal}\"\n",
    "input_folder = fr\"C:\\Users\\right\\Desktop\\lab\\raw data\\behavioral\"\n",
    "input_file = fr\"{animal}-{session}-gonogo_output.mat\"\n",
    "hfile = h5py.File(os.path.join(input_folder, input_file), 'r')"
   ]
  },
  {
   "cell_type": "markdown",
   "metadata": {},
   "source": [
    "## Initialize Processing"
   ]
  },
  {
   "cell_type": "code",
   "execution_count": 4,
   "metadata": {},
   "outputs": [
    {
     "data": {
      "text/plain": [
       "{3: ('in', 'in'),\n",
       " 4: ('out', 'out'),\n",
       " 44: ('out', 'out'),\n",
       " 81.01: ('outcome', 'no-go_correct_unrewarded'),\n",
       " 81.02: ('outcome', 'go_correct_unrewarded'),\n",
       " 81.12: ('outcome', 'go_correct_reward1'),\n",
       " 81.22: ('outcome', 'go_correct_reward2'),\n",
       " 82.02: ('outcome', 'go_incorrect'),\n",
       " 83: ('outcome', 'missed'),\n",
       " 84: ('outcome', 'abort'),\n",
       " 9.01: ('water_valve', '1'),\n",
       " 9.02: ('water_valve', '2'),\n",
       " 9.03: ('water_valve', '3'),\n",
       " 7.01: ('sound_on', '1'),\n",
       " 7.02: ('sound_on', '2'),\n",
       " 7.03: ('sound_on', '3'),\n",
       " 7.04: ('sound_on', '4'),\n",
       " 7.05: ('sound_on', '5'),\n",
       " 7.06: ('sound_on', '6'),\n",
       " 7.07: ('sound_on', '7'),\n",
       " 7.08: ('sound_on', '8'),\n",
       " 7.09: ('sound_on', '9'),\n",
       " 7.1: ('sound_on', '10'),\n",
       " 7.11: ('sound_on', '11'),\n",
       " 7.12: ('sound_on', '12'),\n",
       " 7.13: ('sound_on', '13'),\n",
       " 7.14: ('sound_on', '14'),\n",
       " 7.15: ('sound_on', '15'),\n",
       " 7.16: ('sound_on', '16')}"
      ]
     },
     "execution_count": 4,
     "metadata": {},
     "output_type": "execute_result"
    }
   ],
   "source": [
    "eventlist = EventNode(None, None, None, None)\n",
    "code_map = GoNogoBehaviorMat.code_map\n",
    "code_map"
   ]
  },
  {
   "cell_type": "code",
   "execution_count": 5,
   "metadata": {},
   "outputs": [
    {
     "data": {
      "text/plain": [
       "array([[3.00000000e+00, 1.51131680e+03, 5.00000000e-01],\n",
       "       [4.40000000e+01, 1.51134530e+03, 5.00000000e-01],\n",
       "       [7.01000000e+00, 1.51334647e+03, 1.00000000e+00],\n",
       "       ...,\n",
       "       [8.10100000e+01, 5.09153315e+03, 3.88000000e+02],\n",
       "       [7.16000000e+00, 5.09564763e+03, 3.89000000e+02],\n",
       "       [8.30000000e+01, 5.09864995e+03, 3.89000000e+02]])"
      ]
     },
     "execution_count": 5,
     "metadata": {},
     "output_type": "execute_result"
    }
   ],
   "source": [
    "trial_events = np.array(hfile['out/GoNG_EventTimes'])\n",
    "trial_events"
   ]
  },
  {
   "cell_type": "markdown",
   "metadata": {},
   "source": [
    "## Processing"
   ]
  },
  {
   "cell_type": "code",
   "execution_count": 6,
   "metadata": {},
   "outputs": [],
   "source": [
    "for i in range(len(trial_events)):\n",
    "    eventID, eventTime, trial = trial_events[i]\n",
    "    eventlist.append(EventNode(code_map[eventID][0] + '|' + code_map[eventID][1], eventTime, trial, eventID))"
   ]
  },
  {
   "cell_type": "code",
   "execution_count": 7,
   "metadata": {},
   "outputs": [
    {
     "data": {
      "text/html": [
       "<div>\n",
       "<style scoped>\n",
       "    .dataframe tbody tr th:only-of-type {\n",
       "        vertical-align: middle;\n",
       "    }\n",
       "\n",
       "    .dataframe tbody tr th {\n",
       "        vertical-align: top;\n",
       "    }\n",
       "\n",
       "    .dataframe thead th {\n",
       "        text-align: right;\n",
       "    }\n",
       "</style>\n",
       "<table border=\"1\" class=\"dataframe\">\n",
       "  <thead>\n",
       "    <tr style=\"text-align: right;\">\n",
       "      <th></th>\n",
       "      <th>event</th>\n",
       "      <th>etime</th>\n",
       "      <th>trial</th>\n",
       "      <th>ecode</th>\n",
       "    </tr>\n",
       "  </thead>\n",
       "  <tbody>\n",
       "    <tr>\n",
       "      <th>0</th>\n",
       "      <td>in|in</td>\n",
       "      <td>1511.316804</td>\n",
       "      <td>0.5</td>\n",
       "      <td>3.00</td>\n",
       "    </tr>\n",
       "    <tr>\n",
       "      <th>1</th>\n",
       "      <td>out|out</td>\n",
       "      <td>1511.345304</td>\n",
       "      <td>0.5</td>\n",
       "      <td>44.00</td>\n",
       "    </tr>\n",
       "    <tr>\n",
       "      <th>2</th>\n",
       "      <td>sound_on|1</td>\n",
       "      <td>1513.346466</td>\n",
       "      <td>1.0</td>\n",
       "      <td>7.01</td>\n",
       "    </tr>\n",
       "    <tr>\n",
       "      <th>3</th>\n",
       "      <td>in|in</td>\n",
       "      <td>1513.466129</td>\n",
       "      <td>1.0</td>\n",
       "      <td>3.00</td>\n",
       "    </tr>\n",
       "    <tr>\n",
       "      <th>4</th>\n",
       "      <td>water_valve|2</td>\n",
       "      <td>1513.468296</td>\n",
       "      <td>1.0</td>\n",
       "      <td>9.02</td>\n",
       "    </tr>\n",
       "    <tr>\n",
       "      <th>...</th>\n",
       "      <td>...</td>\n",
       "      <td>...</td>\n",
       "      <td>...</td>\n",
       "      <td>...</td>\n",
       "    </tr>\n",
       "    <tr>\n",
       "      <th>9370</th>\n",
       "      <td>out|out</td>\n",
       "      <td>5086.281508</td>\n",
       "      <td>387.5</td>\n",
       "      <td>44.00</td>\n",
       "    </tr>\n",
       "    <tr>\n",
       "      <th>9371</th>\n",
       "      <td>sound_on|5</td>\n",
       "      <td>5088.282830</td>\n",
       "      <td>388.0</td>\n",
       "      <td>7.05</td>\n",
       "    </tr>\n",
       "    <tr>\n",
       "      <th>9372</th>\n",
       "      <td>outcome|no-go_correct_unrewarded</td>\n",
       "      <td>5091.533150</td>\n",
       "      <td>388.0</td>\n",
       "      <td>81.01</td>\n",
       "    </tr>\n",
       "    <tr>\n",
       "      <th>9373</th>\n",
       "      <td>sound_on|16</td>\n",
       "      <td>5095.647634</td>\n",
       "      <td>389.0</td>\n",
       "      <td>7.16</td>\n",
       "    </tr>\n",
       "    <tr>\n",
       "      <th>9374</th>\n",
       "      <td>outcome|missed</td>\n",
       "      <td>5098.649955</td>\n",
       "      <td>389.0</td>\n",
       "      <td>83.00</td>\n",
       "    </tr>\n",
       "  </tbody>\n",
       "</table>\n",
       "<p>9375 rows × 4 columns</p>\n",
       "</div>"
      ],
      "text/plain": [
       "                                 event        etime  trial  ecode\n",
       "0                                in|in  1511.316804    0.5   3.00\n",
       "1                              out|out  1511.345304    0.5  44.00\n",
       "2                           sound_on|1  1513.346466    1.0   7.01\n",
       "3                                in|in  1513.466129    1.0   3.00\n",
       "4                        water_valve|2  1513.468296    1.0   9.02\n",
       "...                                ...          ...    ...    ...\n",
       "9370                           out|out  5086.281508  387.5  44.00\n",
       "9371                        sound_on|5  5088.282830  388.0   7.05\n",
       "9372  outcome|no-go_correct_unrewarded  5091.533150  388.0  81.01\n",
       "9373                       sound_on|16  5095.647634  389.0   7.16\n",
       "9374                    outcome|missed  5098.649955  389.0  83.00\n",
       "\n",
       "[9375 rows x 4 columns]"
      ]
     },
     "execution_count": 7,
     "metadata": {},
     "output_type": "execute_result"
    }
   ],
   "source": [
    "eventlist.as_df()"
   ]
  },
  {
   "cell_type": "code",
   "execution_count": null,
   "metadata": {},
   "outputs": [],
   "source": []
  }
 ],
 "metadata": {
  "kernelspec": {
   "display_name": "Python 3 (ipykernel)",
   "language": "python",
   "name": "python3"
  },
  "language_info": {
   "codemirror_mode": {
    "name": "ipython",
    "version": 3
   },
   "file_extension": ".py",
   "mimetype": "text/x-python",
   "name": "python",
   "nbconvert_exporter": "python",
   "pygments_lexer": "ipython3",
   "version": "3.7.11"
  }
 },
 "nbformat": 4,
 "nbformat_minor": 1
}
